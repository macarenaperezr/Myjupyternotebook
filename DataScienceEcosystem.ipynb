{
 "cells": [
  {
   "cell_type": "markdown",
   "id": "990b8768-31fc-461e-9790-61b2bc6c3126",
   "metadata": {},
   "source": [
    "# Data Science Tools and Ecosystem"
   ]
  },
  {
   "cell_type": "markdown",
   "id": "f26e53a6-03b0-41d7-afcb-1b12eec5791d",
   "metadata": {},
   "source": [
    "In this notebook, Data Science Tools and Ecosystem are summarized."
   ]
  },
  {
   "cell_type": "markdown",
   "id": "67cf7b85-2ff7-4649-b08b-854234fe9d54",
   "metadata": {},
   "source": [
    "_Objectives_\n",
    "- List popular languages for Data Science\n",
    "- Identify open-source development tools for Data Science\n",
    "- Understand key libraries used in Data Science\n",
    "- Explore the use of Jupyter Notebooks for data analysis\n",
    "- Recognize the importance of version control systems like Git"
   ]
  },
  {
   "cell_type": "markdown",
   "id": "663005fa-15cd-4a2b-b9e2-990e577bf6d7",
   "metadata": {},
   "source": [
    "Some of the popular languages that Data Scientists use are:\n",
    "1. Phyton \n",
    "2. Java\n",
    "3. R\n",
    "4. SQL"
   ]
  },
  {
   "cell_type": "markdown",
   "id": "166e0aca-9deb-447d-8b4b-ae76f8c24581",
   "metadata": {},
   "source": [
    "Some of the commonly used libraries used by Data Scientists include:\n",
    "1. Pandas\n",
    "2. Numpy\n",
    "3. PyTorch"
   ]
  },
  {
   "cell_type": "markdown",
   "id": "99beb49a-b452-4000-b339-9b6312607a55",
   "metadata": {
    "tags": []
   },
   "source": [
    "|Data Science Tools|\n",
    "-------------------\n",
    "|Jupyter Notebook|\n",
    "|RStudio|\n",
    "|Spider|"
   ]
  },
  {
   "cell_type": "markdown",
   "id": "ba4b48ea-92e9-4e15-9661-0e5f13abb627",
   "metadata": {},
   "source": [
    "### Below are a few examples of evaluating arithmetic expressions in Python"
   ]
  },
  {
   "cell_type": "code",
   "execution_count": 3,
   "id": "73ce3fc5-e7bd-4e35-b0b4-7fcad5bfc789",
   "metadata": {
    "tags": []
   },
   "outputs": [
    {
     "data": {
      "text/plain": [
       "17"
      ]
     },
     "execution_count": 3,
     "metadata": {},
     "output_type": "execute_result"
    }
   ],
   "source": [
    "(3*4)+5\n",
    "#This a simple arithmetic expression to mutiply then add integers"
   ]
  },
  {
   "cell_type": "code",
   "execution_count": 5,
   "id": "975f625e-a85b-42b5-8926-1cde2d8ca6d5",
   "metadata": {
    "tags": []
   },
   "outputs": [
    {
     "data": {
      "text/plain": [
       "3.3333333333333335"
      ]
     },
     "execution_count": 5,
     "metadata": {},
     "output_type": "execute_result"
    }
   ],
   "source": [
    "#This will convert 200 minutes to hours by diving by 60\n",
    "200/60"
   ]
  },
  {
   "cell_type": "markdown",
   "id": "8a70674f-87bc-49ea-899a-de2cdb9dbf84",
   "metadata": {},
   "source": [
    "## Author\n",
    "Macarena Pérez Rodriguez "
   ]
  },
  {
   "cell_type": "code",
   "execution_count": null,
   "id": "9dab5ba2-1eb8-4563-8594-b09933d70fd9",
   "metadata": {},
   "outputs": [],
   "source": []
  }
 ],
 "metadata": {
  "kernelspec": {
   "display_name": "Python",
   "language": "python",
   "name": "conda-env-python-py"
  },
  "language_info": {
   "codemirror_mode": {
    "name": "ipython",
    "version": 3
   },
   "file_extension": ".py",
   "mimetype": "text/x-python",
   "name": "python",
   "nbconvert_exporter": "python",
   "pygments_lexer": "ipython3",
   "version": "3.7.12"
  },
  "toc-autonumbering": true
 },
 "nbformat": 4,
 "nbformat_minor": 5
}
